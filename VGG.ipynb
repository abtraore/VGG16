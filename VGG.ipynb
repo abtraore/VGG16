{
  "nbformat": 4,
  "nbformat_minor": 0,
  "metadata": {
    "accelerator": "GPU",
    "colab": {
      "name": "VGG.ipynb",
      "provenance": [],
      "collapsed_sections": [],
      "authorship_tag": "ABX9TyPEWeZcNjeZ+IkDHsJTTX3U",
      "include_colab_link": true
    },
    "kernelspec": {
      "display_name": "Python 3",
      "name": "python3"
    },
    "language_info": {
      "name": "python"
    }
  },
  "cells": [
    {
      "cell_type": "markdown",
      "metadata": {
        "id": "view-in-github",
        "colab_type": "text"
      },
      "source": [
        "<a href=\"https://colab.research.google.com/github/abtraore/VGG16/blob/main/VGG.ipynb\" target=\"_parent\"><img src=\"https://colab.research.google.com/assets/colab-badge.svg\" alt=\"Open In Colab\"/></a>"
      ]
    },
    {
      "cell_type": "code",
      "metadata": {
        "id": "7Jef-AvTSmZ8"
      },
      "source": [
        "from tensorflow.keras.preprocessing.image import ImageDataGenerator\n",
        "import tensorflow as tf\n",
        "import numpy as np\n",
        "import cv2\n",
        "layers = tf.keras.layers"
      ],
      "execution_count": null,
      "outputs": []
    },
    {
      "cell_type": "code",
      "metadata": {
        "id": "jHlWslgJUtyF"
      },
      "source": [
        "imagenette_map = { \n",
        "    \"n01440764\" : \"tench\",\n",
        "    \"n02102040\" : \"springer\",\n",
        "    \"n02979186\" : \"casette_player\",\n",
        "    \"n03000684\" : \"chain_saw\",\n",
        "    \"n03028079\" : \"church\",\n",
        "    \"n03394916\" : \"French_horn\",\n",
        "    \"n03417042\" : \"garbage_truck\",\n",
        "    \"n03425413\" : \"gas_pump\",\n",
        "    \"n03445777\" : \"golf_ball\",\n",
        "    \"n03888257\" : \"parachute\"\n",
        "}"
      ],
      "execution_count": null,
      "outputs": []
    },
    {
      "cell_type": "code",
      "metadata": {
        "id": "Su2BvQi4T1yJ"
      },
      "source": [
        "!wget  https://s3.amazonaws.com/fast-ai-imageclas/imagenette2.tgz\n",
        "!tar -xvf imagenette2.tgz"
      ],
      "execution_count": null,
      "outputs": []
    },
    {
      "cell_type": "code",
      "metadata": {
        "id": "GdWebA9wVi__"
      },
      "source": [
        "# create a new generator\n",
        "imagegen = ImageDataGenerator()\n",
        "# load train data\n",
        "train = imagegen.flow_from_directory(\"imagenette2/train/\", class_mode=\"sparse\", shuffle=True, batch_size=128, target_size=(224, 224))\n",
        "# load val data\n",
        "val = imagegen.flow_from_directory(\"imagenette2/val/\", class_mode=\"sparse\", shuffle=True, batch_size=128, target_size=(224, 224))"
      ],
      "execution_count": null,
      "outputs": []
    },
    {
      "cell_type": "code",
      "metadata": {
        "id": "BFMTzjIhTYXe"
      },
      "source": [
        "class VGG(tf.keras.Model):\n",
        "\n",
        "  def __init__(self):\n",
        "    super(VGG, self).__init__()\n",
        "\n",
        "    self.conv1_1 = layers.Conv2D(64,3,padding='same',activation=\"relu\")\n",
        "    self.conv1_2 = layers.Conv2D(64,3,padding='same',activation=\"relu\")\n",
        "    self.max_pool_1 = layers.MaxPool2D(2,strides=2)\n",
        "\n",
        "    self.conv2_1 = layers.Conv2D(128,3,padding='same',activation=\"relu\")    \n",
        "    self.conv2_2 = layers.Conv2D(128,3,padding='same',activation=\"relu\")\n",
        "    self.max_pool_2 = layers.MaxPool2D(2)\n",
        "\n",
        "    self.conv3_1 = layers.Conv2D(256,3,padding='same',activation=\"relu\")    \n",
        "    self.conv3_2 = layers.Conv2D(256,3,padding='same',activation=\"relu\")\n",
        "    self.conv3_3 = layers.Conv2D(256,3,padding='same',activation=\"relu\")\n",
        "    self.max_pool_3 = layers.MaxPool2D(2,strides=2)\n",
        "\n",
        "    self.conv4_1 = layers.Conv2D(512,3,padding='same',activation=\"relu\")    \n",
        "    self.conv4_2 = layers.Conv2D(512,3,padding='same',activation=\"relu\")\n",
        "    self.conv4_3 = layers.Conv2D(512,3,padding='same',activation=\"relu\")\n",
        "    self.max_pool_4 = layers.MaxPool2D(2,strides=2)\n",
        "\n",
        "    self.conv5_1 = layers.Conv2D(512,3,padding='same',activation=\"relu\")    \n",
        "    self.conv5_2 = layers.Conv2D(512,3,padding='same',activation=\"relu\")\n",
        "    self.conv5_3 = layers.Conv2D(512,3,padding='same',activation=\"relu\")\n",
        "    self.max_pool_5 = layers.MaxPool2D(2,strides=2)\n",
        "\n",
        "    self.flatten = layers.Flatten()\n",
        "    self.dropout = layers.Dropout(0.25)\n",
        "    self.fully_connected_1 = layers.Dense(4096,activation=\"relu\")\n",
        "    self.fully_connected_2 = layers.Dense(4096,activation=\"relu\")\n",
        "    self.classification = layers.Dense(10,activation='softmax')\n",
        "\n",
        "  def call(self,x):\n",
        "\n",
        "    x = self.conv1_1(x)\n",
        "    x = self.conv1_2(x)\n",
        "    x = self.max_pool_1(x)\n",
        "\n",
        "    x = self.conv2_1(x)\n",
        "    x = self.conv2_2(x)\n",
        "    x = self.max_pool_2(x)\n",
        "\n",
        "    x = self.conv3_1(x)\n",
        "    x = self.conv3_2(x)\n",
        "    x = self.conv3_3(x)\n",
        "    x = self.max_pool_3(x)\n",
        "\n",
        "    x = self.conv4_1(x)\n",
        "    x = self.conv4_2(x)\n",
        "    x = self.conv4_3(x)\n",
        "    x = self.max_pool_4(x)\n",
        "\n",
        "    x = self.conv5_1(x)\n",
        "    x = self.conv5_2(x)\n",
        "    x = self.conv5_3(x)\n",
        "    x = self.max_pool_5(x)\n",
        "\n",
        "    x = self.flatten(x)\n",
        "    x = self.dropout(x)\n",
        "    x = self.fully_connected_1(x)\n",
        "    x = self.fully_connected_2(x)\n",
        "    x = self.classification(x)\n",
        "\n",
        "    return x"
      ],
      "execution_count": null,
      "outputs": []
    },
    {
      "cell_type": "code",
      "metadata": {
        "id": "FVAK2wjtTafS"
      },
      "source": [
        "model = VGG()"
      ],
      "execution_count": null,
      "outputs": []
    },
    {
      "cell_type": "code",
      "metadata": {
        "id": "VB1XUVCaT0Y6"
      },
      "source": [
        "loss_object = tf.keras.losses.SparseCategoricalCrossentropy(from_logits=False)\n",
        "optimizer   = tf.keras.optimizers.SGD()"
      ],
      "execution_count": null,
      "outputs": []
    },
    {
      "cell_type": "code",
      "metadata": {
        "id": "bcUihbkuYFv2"
      },
      "source": [
        "train_loss = tf.keras.metrics.Mean(name='train_loss')\n",
        "train_accuracy = tf.keras.metrics.SparseCategoricalAccuracy(name='train_accuracy')\n",
        "\n",
        "test_loss = tf.keras.metrics.Mean(name='test_loss')\n",
        "test_accuracy = tf.keras.metrics.SparseCategoricalAccuracy(name='test_accuracy')"
      ],
      "execution_count": null,
      "outputs": []
    },
    {
      "cell_type": "code",
      "metadata": {
        "id": "b7q2eY7AWBFd"
      },
      "source": [
        "@tf.function\n",
        "def train_step(images, labels):\n",
        "  with tf.GradientTape() as tape:\n",
        "    # training=True is only needed if there are layers with different\n",
        "    # behavior during training versus inference (e.g. Dropout).\n",
        "    predictions = model(images, training=True)\n",
        "    loss = loss_object(labels, predictions)\n",
        "    \n",
        "  gradients = tape.gradient(loss, model.trainable_variables)\n",
        "  optimizer.apply_gradients(zip(gradients, model.trainable_variables))\n",
        "\n",
        "  train_loss(loss)\n",
        "  train_accuracy(labels, predictions)"
      ],
      "execution_count": null,
      "outputs": []
    },
    {
      "cell_type": "code",
      "metadata": {
        "id": "sn3kYtw7YLKb"
      },
      "source": [
        "@tf.function\n",
        "def test_step(images, labels):\n",
        "  # training=False is only needed if there are layers with different\n",
        "  # behavior during training versus inference (e.g. Dropout).\n",
        "  predictions = model(images, training=False)\n",
        "  t_loss = loss_object(labels, predictions)\n",
        "\n",
        "  test_loss(t_loss)\n",
        "  test_accuracy(labels, predictions)"
      ],
      "execution_count": null,
      "outputs": []
    },
    {
      "cell_type": "code",
      "metadata": {
        "id": "-0pUE7qqWLlq"
      },
      "source": [
        "EPOCHS = 1000\n",
        "ITER = 0\n",
        "ITER_MAX = 10000\n",
        "\n",
        "for epoch in range(EPOCHS):\n",
        "\n",
        "  # Reset the metrics at the start of the next epoch\n",
        "  train_loss.reset_states()\n",
        "  train_accuracy.reset_states()\n",
        "  test_loss.reset_states()\n",
        "  test_accuracy.reset_states()\n",
        "\n",
        "  for images, labels in train:\n",
        "    train_step(images, labels)\n",
        "    ITER += 256\n",
        "    if ITER >= ITER_MAX:\n",
        "        ITER = 0\n",
        "        break \n",
        "\n",
        "  for test_images, test_labels in val:\n",
        "    test_step(test_images, test_labels)\n",
        "    ITER += 256\n",
        "    if ITER >= ITER_MAX:\n",
        "        ITER = 0\n",
        "        break \n",
        "\n",
        "  print(\n",
        "    f'Epoch {epoch + 1}, '\n",
        "    f'Loss: {train_loss.result()}, '\n",
        "    f'Accuracy: {train_accuracy.result() * 100}, '\n",
        "    f'Test Loss: {test_loss.result()}, '\n",
        "    f'Test Accuracy: {test_accuracy.result() * 100}'\n",
        "  )"
      ],
      "execution_count": null,
      "outputs": []
    },
    {
      "cell_type": "code",
      "metadata": {
        "id": "LUiIQa8HHQjV"
      },
      "source": [
        ""
      ],
      "execution_count": null,
      "outputs": []
    }
  ]
}